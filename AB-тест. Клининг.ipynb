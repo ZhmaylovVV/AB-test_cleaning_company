{
 "cells": [
  {
   "cell_type": "markdown",
   "metadata": {},
   "source": [
    "## Приняте решения по результатам А/В теста"
   ]
  },
  {
   "cell_type": "markdown",
   "metadata": {},
   "source": [
    "#### Анализ скидок для сервисов \"Жилая недвижимость\"\n",
    "Команда занимается сервисами для владельцев жилой недвижимости и последний год продает клининговые услуги по модели подписки (на месяц и на год). Цены - 200 и 1000 руб. соответственно.\\\n",
    "Решили посмотреть, как скидки влияют на аудиторию. Поделили всех неплативших пользователей, которые заходили в период скидок, на группы А и В. Группе А не давали скидок, а группе В дали скидку 30% на любую из подписок.\\\n",
    "\\\n",
    "Тест проводили с 2019-08-05 до 2019-08-11 включительно, ID теста — 127.\\\n",
    "\\\n",
    "Для подведения итогов А/В-тестирования нужно рассчитать, насколько в группах А и В различаются:\n",
    "- конверсия (отношение числа покупателей к общему числу пользователей в группе)\n",
    "- средний чек\n",
    "- ARPU пользователей (avrage revenue per user - средний доход с одного пользователя)"
   ]
  },
  {
   "cell_type": "markdown",
   "metadata": {},
   "source": [
    "#### Оглавление\n",
    "* [1) Загрузить и ознакомиться с данными](#load)\n",
    "* [2) Проверка статистических гипотез о разности параметров в группах A и B](#hypothesis)\n",
    "    *  [2.1) Конверсия](#convertion)\n",
    "    *  [2.2) Средний чек](#avg_bill)\n",
    "    *  [2.3) ARPU](#arpu)\n",
    "* [3) Доверительные интервалы](#ci)\n",
    "* [4) Отчёт](#sum)\n",
    "* [5) Вывод](#fin)"
   ]
  },
  {
   "cell_type": "markdown",
   "metadata": {},
   "source": [
    "#### <u>1) Загрузка и ознакомление с данными<a id=\"load\"></a>"
   ]
  },
  {
   "cell_type": "code",
   "execution_count": 38,
   "metadata": {},
   "outputs": [],
   "source": [
    "import pandas as pd\n",
    "import numpy as np\n",
    "import matplotlib.pyplot as plt\n",
    "from scipy import stats\n",
    "from statsmodels.stats.proportion import proportion_confint\n",
    "from statsmodels.stats.weightstats import ztest\n",
    "from statsmodels.stats import weightstats"
   ]
  },
  {
   "cell_type": "markdown",
   "metadata": {},
   "source": [
    "Таблица ab_test_groups"
   ]
  },
  {
   "cell_type": "code",
   "execution_count": 39,
   "metadata": {},
   "outputs": [
    {
     "data": {
      "text/html": [
       "<div>\n",
       "<style scoped>\n",
       "    .dataframe tbody tr th:only-of-type {\n",
       "        vertical-align: middle;\n",
       "    }\n",
       "\n",
       "    .dataframe tbody tr th {\n",
       "        vertical-align: top;\n",
       "    }\n",
       "\n",
       "    .dataframe thead th {\n",
       "        text-align: right;\n",
       "    }\n",
       "</style>\n",
       "<table border=\"1\" class=\"dataframe\">\n",
       "  <thead>\n",
       "    <tr style=\"text-align: right;\">\n",
       "      <th></th>\n",
       "      <th>user_id</th>\n",
       "      <th>grp</th>\n",
       "      <th>ab_test_id</th>\n",
       "    </tr>\n",
       "  </thead>\n",
       "  <tbody>\n",
       "    <tr>\n",
       "      <th>11999</th>\n",
       "      <td>1</td>\n",
       "      <td>B</td>\n",
       "      <td>127</td>\n",
       "    </tr>\n",
       "    <tr>\n",
       "      <th>12000</th>\n",
       "      <td>2</td>\n",
       "      <td>B</td>\n",
       "      <td>127</td>\n",
       "    </tr>\n",
       "    <tr>\n",
       "      <th>12001</th>\n",
       "      <td>3</td>\n",
       "      <td>B</td>\n",
       "      <td>127</td>\n",
       "    </tr>\n",
       "    <tr>\n",
       "      <th>12002</th>\n",
       "      <td>4</td>\n",
       "      <td>B</td>\n",
       "      <td>127</td>\n",
       "    </tr>\n",
       "    <tr>\n",
       "      <th>12003</th>\n",
       "      <td>5</td>\n",
       "      <td>A</td>\n",
       "      <td>127</td>\n",
       "    </tr>\n",
       "  </tbody>\n",
       "</table>\n",
       "</div>"
      ],
      "text/plain": [
       "       user_id grp  ab_test_id\n",
       "11999        1   B         127\n",
       "12000        2   B         127\n",
       "12001        3   B         127\n",
       "12002        4   B         127\n",
       "12003        5   A         127"
      ]
     },
     "execution_count": 39,
     "metadata": {},
     "output_type": "execute_result"
    }
   ],
   "source": [
    "ab_test_groups = pd.read_csv('ab_test_groups.csv')\n",
    "ab_test_groups = ab_test_groups.loc[ab_test_groups.ab_test_id == 127]\n",
    "ab_test_groups.head()"
   ]
  },
  {
   "cell_type": "markdown",
   "metadata": {},
   "source": [
    "Таблица payments"
   ]
  },
  {
   "cell_type": "code",
   "execution_count": 40,
   "metadata": {},
   "outputs": [
    {
     "data": {
      "text/html": [
       "<div>\n",
       "<style scoped>\n",
       "    .dataframe tbody tr th:only-of-type {\n",
       "        vertical-align: middle;\n",
       "    }\n",
       "\n",
       "    .dataframe tbody tr th {\n",
       "        vertical-align: top;\n",
       "    }\n",
       "\n",
       "    .dataframe thead th {\n",
       "        text-align: right;\n",
       "    }\n",
       "</style>\n",
       "<table border=\"1\" class=\"dataframe\">\n",
       "  <thead>\n",
       "    <tr style=\"text-align: right;\">\n",
       "      <th></th>\n",
       "      <th>user_id</th>\n",
       "      <th>price</th>\n",
       "    </tr>\n",
       "  </thead>\n",
       "  <tbody>\n",
       "    <tr>\n",
       "      <th>0</th>\n",
       "      <td>77831</td>\n",
       "      <td>200.0</td>\n",
       "    </tr>\n",
       "    <tr>\n",
       "      <th>1</th>\n",
       "      <td>84576</td>\n",
       "      <td>200.0</td>\n",
       "    </tr>\n",
       "    <tr>\n",
       "      <th>2</th>\n",
       "      <td>40981</td>\n",
       "      <td>140.0</td>\n",
       "    </tr>\n",
       "    <tr>\n",
       "      <th>3</th>\n",
       "      <td>130565</td>\n",
       "      <td>140.0</td>\n",
       "    </tr>\n",
       "    <tr>\n",
       "      <th>4</th>\n",
       "      <td>34758</td>\n",
       "      <td>700.0</td>\n",
       "    </tr>\n",
       "  </tbody>\n",
       "</table>\n",
       "</div>"
      ],
      "text/plain": [
       "   user_id  price\n",
       "0    77831  200.0\n",
       "1    84576  200.0\n",
       "2    40981  140.0\n",
       "3   130565  140.0\n",
       "4    34758  700.0"
      ]
     },
     "execution_count": 40,
     "metadata": {},
     "output_type": "execute_result"
    }
   ],
   "source": [
    "payments = pd.read_csv('payments.csv')\n",
    "payments = payments.loc[(payments.created_at >= '2019-08-05') & (payments.created_at < '2019-08-12'), ['user_id', 'price']]\n",
    "payments.head()"
   ]
  },
  {
   "cell_type": "code",
   "execution_count": 41,
   "metadata": {},
   "outputs": [],
   "source": [
    "# У одного пользователя может быть несколько покупок - проведем агрегацию по пользователю\n",
    "payments = payments.groupby('user_id', as_index = False).agg({'price':'sum'})"
   ]
  },
  {
   "cell_type": "code",
   "execution_count": 42,
   "metadata": {},
   "outputs": [
    {
     "data": {
      "text/html": [
       "<div>\n",
       "<style scoped>\n",
       "    .dataframe tbody tr th:only-of-type {\n",
       "        vertical-align: middle;\n",
       "    }\n",
       "\n",
       "    .dataframe tbody tr th {\n",
       "        vertical-align: top;\n",
       "    }\n",
       "\n",
       "    .dataframe thead th {\n",
       "        text-align: right;\n",
       "    }\n",
       "</style>\n",
       "<table border=\"1\" class=\"dataframe\">\n",
       "  <thead>\n",
       "    <tr style=\"text-align: right;\">\n",
       "      <th></th>\n",
       "      <th>user_id</th>\n",
       "      <th>grp</th>\n",
       "      <th>ab_test_id</th>\n",
       "      <th>price</th>\n",
       "    </tr>\n",
       "  </thead>\n",
       "  <tbody>\n",
       "    <tr>\n",
       "      <th>0</th>\n",
       "      <td>1</td>\n",
       "      <td>B</td>\n",
       "      <td>127</td>\n",
       "      <td>140.0</td>\n",
       "    </tr>\n",
       "    <tr>\n",
       "      <th>1</th>\n",
       "      <td>2</td>\n",
       "      <td>B</td>\n",
       "      <td>127</td>\n",
       "      <td>NaN</td>\n",
       "    </tr>\n",
       "    <tr>\n",
       "      <th>2</th>\n",
       "      <td>3</td>\n",
       "      <td>B</td>\n",
       "      <td>127</td>\n",
       "      <td>NaN</td>\n",
       "    </tr>\n",
       "    <tr>\n",
       "      <th>3</th>\n",
       "      <td>4</td>\n",
       "      <td>B</td>\n",
       "      <td>127</td>\n",
       "      <td>NaN</td>\n",
       "    </tr>\n",
       "    <tr>\n",
       "      <th>4</th>\n",
       "      <td>5</td>\n",
       "      <td>A</td>\n",
       "      <td>127</td>\n",
       "      <td>NaN</td>\n",
       "    </tr>\n",
       "  </tbody>\n",
       "</table>\n",
       "</div>"
      ],
      "text/plain": [
       "   user_id grp  ab_test_id  price\n",
       "0        1   B         127  140.0\n",
       "1        2   B         127    NaN\n",
       "2        3   B         127    NaN\n",
       "3        4   B         127    NaN\n",
       "4        5   A         127    NaN"
      ]
     },
     "execution_count": 42,
     "metadata": {},
     "output_type": "execute_result"
    }
   ],
   "source": [
    "# Объединяем таблицы\n",
    "ab_data = ab_test_groups.merge(payments, on = 'user_id', how = 'left')\n",
    "ab_data.head()"
   ]
  },
  {
   "cell_type": "markdown",
   "metadata": {},
   "source": [
    "Теперь у нас есть информация ab_data о группе А/В-теста для каждого пользователя и о суммарной стоимости его покупок (NaN - пользователь ничего не купил)."
   ]
  },
  {
   "cell_type": "markdown",
   "metadata": {},
   "source": [
    "Объединим данные в одну таблицу, отражающую:\n",
    "- число пользователей\n",
    "- число покупателей\n",
    "- конверсию\n",
    "- средний чек\n",
    "- ARPU - среднюю выручка на пользователя\n",
    "- дополнительную выручку группы B для обеих групп"
   ]
  },
  {
   "cell_type": "code",
   "execution_count": 43,
   "metadata": {},
   "outputs": [
    {
     "name": "stderr",
     "output_type": "stream",
     "text": [
      "C:\\Users\\user\\AppData\\Local\\Temp\\ipykernel_12300\\2042953329.py:14: FutureWarning: Setting an item of incompatible dtype is deprecated and will raise an error in a future version of pandas. Value '-' has dtype incompatible with float64, please explicitly cast to a compatible dtype first.\n",
      "  ab_summary.loc['A', 'add_rev'] = '-'\n"
     ]
    },
    {
     "data": {
      "text/html": [
       "<div>\n",
       "<style scoped>\n",
       "    .dataframe tbody tr th:only-of-type {\n",
       "        vertical-align: middle;\n",
       "    }\n",
       "\n",
       "    .dataframe tbody tr th {\n",
       "        vertical-align: top;\n",
       "    }\n",
       "\n",
       "    .dataframe thead th {\n",
       "        text-align: right;\n",
       "    }\n",
       "</style>\n",
       "<table border=\"1\" class=\"dataframe\">\n",
       "  <thead>\n",
       "    <tr style=\"text-align: right;\">\n",
       "      <th></th>\n",
       "      <th>users_count</th>\n",
       "      <th>UC, %</th>\n",
       "      <th>buyers_count</th>\n",
       "      <th>BC, %</th>\n",
       "      <th>conversion</th>\n",
       "      <th>C, %</th>\n",
       "      <th>avg_bill</th>\n",
       "      <th>AB, %</th>\n",
       "      <th>revenue</th>\n",
       "      <th>R, %</th>\n",
       "      <th>ARPU</th>\n",
       "      <th>A, %</th>\n",
       "      <th>add_rev</th>\n",
       "    </tr>\n",
       "    <tr>\n",
       "      <th>grp</th>\n",
       "      <th></th>\n",
       "      <th></th>\n",
       "      <th></th>\n",
       "      <th></th>\n",
       "      <th></th>\n",
       "      <th></th>\n",
       "      <th></th>\n",
       "      <th></th>\n",
       "      <th></th>\n",
       "      <th></th>\n",
       "      <th></th>\n",
       "      <th></th>\n",
       "      <th></th>\n",
       "    </tr>\n",
       "  </thead>\n",
       "  <tbody>\n",
       "    <tr>\n",
       "      <th>A</th>\n",
       "      <td>76605</td>\n",
       "      <td>-</td>\n",
       "      <td>4279</td>\n",
       "      <td>-</td>\n",
       "      <td>0.055858</td>\n",
       "      <td>-</td>\n",
       "      <td>396.120589</td>\n",
       "      <td>-</td>\n",
       "      <td>1695000.0</td>\n",
       "      <td>-</td>\n",
       "      <td>22.126493</td>\n",
       "      <td>-</td>\n",
       "      <td>-</td>\n",
       "    </tr>\n",
       "    <tr>\n",
       "      <th>B</th>\n",
       "      <td>76627</td>\n",
       "      <td>+0.0</td>\n",
       "      <td>9427</td>\n",
       "      <td>+120.3</td>\n",
       "      <td>0.123025</td>\n",
       "      <td>+120.2</td>\n",
       "      <td>348.804498</td>\n",
       "      <td>-13.6</td>\n",
       "      <td>3288180.0</td>\n",
       "      <td>+94.0</td>\n",
       "      <td>42.911506</td>\n",
       "      <td>+94.0</td>\n",
       "      <td>1592693.217153</td>\n",
       "    </tr>\n",
       "  </tbody>\n",
       "</table>\n",
       "</div>"
      ],
      "text/plain": [
       "     users_count UC, %  buyers_count   BC, %  conversion    C, %    avg_bill  \\\n",
       "grp                                                                            \n",
       "A          76605     -          4279       -    0.055858       -  396.120589   \n",
       "B          76627  +0.0          9427  +120.3    0.123025  +120.2  348.804498   \n",
       "\n",
       "     AB, %    revenue   R, %       ARPU   A, %         add_rev  \n",
       "grp                                                             \n",
       "A        -  1695000.0      -  22.126493      -               -  \n",
       "B    -13.6  3288180.0  +94.0  42.911506  +94.0  1592693.217153  "
      ]
     },
     "execution_count": 43,
     "metadata": {},
     "output_type": "execute_result"
    }
   ],
   "source": [
    "# Пользователи\n",
    "ab_summary = ab_data.groupby('grp').agg({'user_id':'count', 'price':'count'})\n",
    "# Покупатели\n",
    "ab_summary.rename(columns={'user_id':'users_count', 'price':'buyers_count'}, inplace = True)\n",
    "# Конверсия пользователей в покупатели\n",
    "ab_summary['conversion'] = ab_summary.buyers_count/ab_summary.users_count\n",
    "# Средниц чек\n",
    "ab_summary = ab_summary.merge(ab_data.groupby('grp').agg({'price':'mean'}).rename(columns = {'price':'avg_bill'}), left_index = True, right_index = True)\n",
    "# Выручка на одного пользователя (ARPU)\n",
    "ab_summary = ab_summary.merge(ab_data.groupby('grp').agg({'price':'sum'}).rename(columns = {'price':'revenue'}), left_index = True, right_index = True)\n",
    "ab_summary['ARPU'] = ab_summary.revenue/ab_summary.users_count\n",
    "# Дополнительная выручка группы B\n",
    "ab_summary['add_rev'] = ab_summary.users_count*(ab_summary.ARPU - ab_summary.loc['A', 'ARPU'])\n",
    "ab_summary.loc['A', 'add_rev'] = '-'\n",
    "\n",
    "# Прирост в %\n",
    "# Пользователи\n",
    "d = ab_summary.loc['B', 'users_count'] - ab_summary.loc['A', 'users_count']\n",
    "s = ab_summary.loc['A', 'users_count']\n",
    "ab_summary['UC, %'] = ['-', f'+{(d*100/s):.1f}']\n",
    "# Покупатели\n",
    "d = ab_summary.loc['B', 'buyers_count'] - ab_summary.loc['A', 'buyers_count']\n",
    "s = ab_summary.loc['A', 'buyers_count']\n",
    "ab_summary['BC, %'] = ['-', f'+{(d*100/s):.1f}']\n",
    "# Конверсия\n",
    "d = ab_summary.loc['B', 'conversion'] - ab_summary.loc['A', 'conversion']\n",
    "s = ab_summary.loc['A', 'conversion']\n",
    "ab_summary['C, %'] = ['-', f'+{(d*100/s):.1f}']\n",
    "# Средний чек\n",
    "d = ab_summary.loc['B', 'avg_bill'] - ab_summary.loc['A', 'avg_bill']\n",
    "s = ab_summary.loc['B', 'avg_bill']\n",
    "ab_summary['AB, %'] = ['-', f'{(d*100/s):.1f}']\n",
    "# Выручка\n",
    "d = ab_summary.loc['B', 'revenue'] - ab_summary.loc['A', 'revenue']\n",
    "s = ab_summary.loc['A', 'revenue']\n",
    "ab_summary['R, %'] = ['-', f'+{(d*100/s):.1f}']\n",
    "# ARPU\n",
    "ab_summary['A, %'] = ['-', f'+{(d*100/s):.1f}']\n",
    "\n",
    "ab_summary[['users_count', 'UC, %', 'buyers_count', 'BC, %', 'conversion', 'C, %', 'avg_bill', 'AB, %', 'revenue', 'R, %', 'ARPU', 'A, %', 'add_rev']]"
   ]
  },
  {
   "cell_type": "markdown",
   "metadata": {},
   "source": [
    "Средние значения для групп A и B – это всего лишь средние значения одной из выборок из генеральной совокупности для каждой группы и реальное распределение значений для каждой группы неизвестны. Таким образом, просто так сравнивать их нельзя. Необходимо проверить ститистическую значимость разницы этих показателей."
   ]
  },
  {
   "cell_type": "markdown",
   "metadata": {},
   "source": [
    "#### <u>2) Проверка статистических гипотез о разности параметров в группах A и B<a id=\"hypothesis\"></a>"
   ]
  },
  {
   "cell_type": "markdown",
   "metadata": {},
   "source": [
    "### Объём выборки\n",
    "\n",
    "Проверим, достаточен ли объём выборок"
   ]
  },
  {
   "cell_type": "code",
   "execution_count": 70,
   "metadata": {},
   "outputs": [
    {
     "name": "stdout",
     "output_type": "stream",
     "text": [
      "Фактический объём выборки A: 76605\n",
      "Фактический объём выборки B: 76627\n",
      "Baseline conversion rate: 5.585797271718556\n",
      "MDE: 0.005\n",
      "Уровень значимости α: 0.05\n",
      "Мощность 1-β: 0.8\n"
     ]
    }
   ],
   "source": [
    "print('Фактический объём выборки A:', ab_data['grp'][ab_data['grp']=='A'].count())\n",
    "print('Фактический объём выборки B:', ab_data['grp'][ab_data['grp']=='B'].count())\n",
    "print('Baseline conversion rate:', ab_summary['conversion']['A']*100)\n",
    "print('MDE:', 0.005)\n",
    "print('Уровень значимости α:', 0.05)\n",
    "print('Мощность 1-β:', 0.8)"
   ]
  },
  {
   "cell_type": "markdown",
   "metadata": {},
   "source": [
    "Согласно калькулятору Эвана Миллера, требуемый объём выборки для каждой группы составляет 33528, что удовлетворяет данным из задания."
   ]
  },
  {
   "cell_type": "markdown",
   "metadata": {},
   "source": [
    "#### <u>2.1) Конверсия</u><a id=\"convertion\"></a>"
   ]
  },
  {
   "cell_type": "markdown",
   "metadata": {},
   "source": [
    "<b>Постановка гипотезы</b>\n",
    "- H0: разница в конверсиях в группе А и B отсутствует\n",
    "- H1: конверсия в группе А < конверсия в группе В т.е уровень конверсии вырос \n",
    "\n",
    "<b>Наблюдения</b>\n",
    "- выборочная конверсия в группе А = 0.055858\n",
    "- выборочная конверсия в группе В = 0.123025\n",
    "\n",
    "В качестве уровня значимости альфа возьмем 0,05. "
   ]
  },
  {
   "cell_type": "code",
   "execution_count": 44,
   "metadata": {},
   "outputs": [
    {
     "name": "stdout",
     "output_type": "stream",
     "text": [
      "z-статистика: -46.38627328408593\n",
      "p-value: 0.0\n"
     ]
    }
   ],
   "source": [
    "conversion_A = ab_data.loc[ab_data.grp == 'A', 'price'].apply(lambda x: 1 if pd.notnull(x) else 0)\n",
    "conversion_B = ab_data.loc[ab_data.grp == 'B', 'price'].apply(lambda x: 1 if pd.notnull(x) else 0)                                                            \n",
    "z, p = ztest(conversion_A, conversion_B)\n",
    "\n",
    "print('z-статистика:', z)\n",
    "print('p-value:', p)"
   ]
  },
  {
   "cell_type": "markdown",
   "metadata": {},
   "source": [
    "<b>Вывод о конверсии</b>\n",
    "\\\n",
    "p-value настолько мало, что это позволяет нам отвергнуть гипотезу H0 и соответственно говорить о фактическом улучшении конверсии"
   ]
  },
  {
   "cell_type": "markdown",
   "metadata": {},
   "source": [
    "#### <u>2.2) Средний чек</u><a id=\"avg_bill\"></a>"
   ]
  },
  {
   "cell_type": "markdown",
   "metadata": {},
   "source": [
    "Изучим закон распределения среднего чека.\n",
    "\n",
    "У нас весьма небольшое количество цен на подписки, поэтому очевидно, что средний чек не будут распределены нормально. Визуализируем распределение средних чеков."
   ]
  },
  {
   "cell_type": "code",
   "execution_count": 45,
   "metadata": {},
   "outputs": [
    {
     "data": {
      "image/png": "[encoded data removed]",
      "text/plain": [
       "<Figure size 600x200 with 1 Axes>"
      ]
     },
     "metadata": {},
     "output_type": "display_data"
    }
   ],
   "source": [
    "fig = plt.figure(figsize=(6, 2))\n",
    "ax = fig.add_subplot()\n",
    "ab_data.loc[ab_data.grp == 'A', 'price'].dropna().hist()\n",
    "ax.set_xlabel('Чек, руб', fontsize=8)\n",
    "ax.set_ylabel('Количество пользователей', fontsize=8)\n",
    "ax.tick_params(labelsize=8)\n",
    "plt.show()"
   ]
  },
  {
   "cell_type": "markdown",
   "metadata": {},
   "source": [
    "Так как распределения признаков не бинарные (0-1) и не нормальные, нужно использовать для сравнения средних непараметрический U-тест Манна-Уитни."
   ]
  },
  {
   "cell_type": "markdown",
   "metadata": {},
   "source": [
    "<b>Постановка гипотезы</b>\n",
    "- H0: разница среднего чека в группе А и В отсутствует\n",
    "- H1: средний чек в группе A > средний чек в группе B т.е средний чек в В упал \n",
    "\n",
    "<b>Наблюдения</b>\n",
    "- выборочное среднее чека в группе А = 396.12\n",
    "- выборочное среднее чека в группе В = 348.8\n",
    "- Нет оснований полагать, что истинные стандартные отклонения чека в A и B равны. \n",
    "\n",
    "В качестве уровня значимости альфа возьмем 0,05. "
   ]
  },
  {
   "cell_type": "code",
   "execution_count": 56,
   "metadata": {},
   "outputs": [
    {
     "name": "stdout",
     "output_type": "stream",
     "text": [
      "U-статистика: 28984683.0 \t p-value: 0.0\n"
     ]
    }
   ],
   "source": [
    "bills_A = ab_data.loc[ab_data.grp == 'A', 'price'].dropna(axis=0)\n",
    "bills_B = ab_data.loc[ab_data.grp == 'B', 'price'].dropna(axis=0)\n",
    "\n",
    "u_bill = stats.mannwhitneyu(bills_A, bills_B, alternative='greater')  # greater - a>b\n",
    "print('U-статистика:', u_bill[0], '\\t', 'p-value:', u_bill[1])"
   ]
  },
  {
   "cell_type": "markdown",
   "metadata": {},
   "source": [
    "<b>Вывод о среднем чеке</b>\\\n",
    "p-value гораздо меньше 0.05, поэтому мы отвергаем нулевую гипотезу о равенстве средних чеков в пользу альтернативной и считаем, что средний чек в А действительно значимо больше чем в В."
   ]
  },
  {
   "cell_type": "markdown",
   "metadata": {},
   "source": [
    "#### <u>2.3) ARPU</u><a id=\"arpu\"></a>"
   ]
  },
  {
   "cell_type": "markdown",
   "metadata": {},
   "source": [
    "У нас весьма небольшое количество цен на подписки, поэтому очевидно, что средняя выручка на пользователя не будут распределена нормально. Визуализируем распределение средних чеков."
   ]
  },
  {
   "cell_type": "code",
   "execution_count": 47,
   "metadata": {},
   "outputs": [
    {
     "data": {
      "image/png": "[encoded data removed]",
      "text/plain": [
       "<Figure size 600x200 with 1 Axes>"
      ]
     },
     "metadata": {},
     "output_type": "display_data"
    }
   ],
   "source": [
    "fig = plt.figure(figsize=(6, 2))\n",
    "ax = fig.add_subplot()\n",
    "ab_data.loc[ab_data.grp == 'A', 'price'].fillna(0).hist()\n",
    "ax.set_xlabel('Выручка, руб', fontsize=8)\n",
    "ax.set_ylabel('Количество пользователей', fontsize=8)\n",
    "ax.tick_params(labelsize=8)\n",
    "plt.show()"
   ]
  },
  {
   "cell_type": "markdown",
   "metadata": {},
   "source": [
    "Так как распределения признаков не бинарные (0-1) и не нормальные, нужно использовать для сравнения средних  непараметрический U-тест Манна-Уитни."
   ]
  },
  {
   "cell_type": "markdown",
   "metadata": {},
   "source": [
    "<b>Постановка гипотезы</b>\n",
    "- H0: ARPU в группе А = ARPU в группе В\n",
    "- H1: ARPU в группе A < ARPU в группе B т.е ARPU в В выросло\n",
    "\n",
    "<b>Наблюдения</b>\n",
    "- выборочное ARPU в группе А = 22.13\n",
    "- выборочное ARPU в группе В = 42.91\n",
    "- Нет оснований полагать, что истинные стандартные отклонения доходов с каждого пользователя в A и B равны. \n",
    "\n",
    "В качестве уровня значимости альфа возьмем 0,05. \n",
    "\n"
   ]
  },
  {
   "cell_type": "code",
   "execution_count": 57,
   "metadata": {},
   "outputs": [
    {
     "name": "stdout",
     "output_type": "stream",
     "text": [
      "U-статистика: 2746687083.0 \t p-value: 0.0\n"
     ]
    }
   ],
   "source": [
    "ARPU_A = ab_data.loc[ab_data.grp == 'A', 'price'].fillna(0)\n",
    "ARPU_B = ab_data.loc[ab_data.grp == 'B', 'price'].fillna(0)\n",
    "\n",
    "u_arpu = stats.mannwhitneyu(ARPU_A, ARPU_B, alternative='less')  # less - a<b\n",
    "\n",
    "print('U-статистика:', u_arpu[0], '\\t', 'p-value:', u_arpu[1].round(5))"
   ]
  },
  {
   "cell_type": "markdown",
   "metadata": {},
   "source": [
    "<b>Вывод об ARPU</b>\\\n",
    "Очень маленькое p-value, гораздо меньшее чем 0.05, поэтому мы отвергаем нулевую гипотезу о равенстве ARPU в А и В и считаем, что ARPU в B действительно значимо больше чем в A."
   ]
  },
  {
   "cell_type": "markdown",
   "metadata": {},
   "source": [
    "#### <u>3) Доверительные интервалы</u><a id=\"ci\"></a>\n",
    "\n",
    "Интервал в котором «скорее всего» лежит истинное значение.\\\n",
    "(Например: с 95%-ной вероятностью в нашем интервале лежит реальное значение, и лишь в 5 % случаев мы ошибаемся).\n",
    "\n",
    "Показывает, насколько параметры из выборочной совокупности могут отличаться от реально существующих данных в генеральной совокупности. Насколько мы ошибаемся при формировании той или иной выборки, мы закладываем в так называемую ошибку репрезентативности, в ошибку средней и вокруг нее собственно и строим доверительный интервал.\n",
    "\n",
    "Уровень значимости связан с доверительным интервалом и отражает степень нашей уверенности, что истинное значение находится внутри данного доверительного интервала. Чем меньше уровень значимости, тем мы более уверены."
   ]
  },
  {
   "cell_type": "markdown",
   "metadata": {},
   "source": [
    "Посчитаем 95% доверительные интервалы для конверсии, ARPU и среднего чека. "
   ]
  },
  {
   "cell_type": "code",
   "execution_count": 55,
   "metadata": {},
   "outputs": [],
   "source": [
    "#Функции для получения доверительных интервалов\n",
    "\n",
    "# Считает доверительные интервалы для средних\n",
    "def get_conf_interval(data, conf_level = 0.95):  \n",
    "        buf = (stats.t.interval(conf_level, len(data),\n",
    "                                loc=np.mean(data), scale=stats.sem(data)))        \n",
    "        return float((buf[1] - buf[0])/2)  # возвращаем предел погрешности\n",
    "    \n",
    "#Считает доверительные интервалы для бинарных величин\n",
    "def get_conf_interval_z(succ, tot):  \n",
    "    buf = proportion_confint(succ, tot)\n",
    "    return buf[1] - buf[0]  # возвращаем предел погрешности"
   ]
  },
  {
   "cell_type": "code",
   "execution_count": 51,
   "metadata": {},
   "outputs": [
    {
     "name": "stdout",
     "output_type": "stream",
     "text": [
      "Доверительные интервалы:\n",
      "Конверсия группы A: ± 0.003\n",
      "Конверсия группы A: ± 0.005\n",
      "Средний чек группы A: ± 10.32\n",
      "Средний чек группы A: ± 5.47\n",
      "ARPU группы A: ± 0.86\n",
      "ARPU группы B: ± 1.05\n"
     ]
    }
   ],
   "source": [
    "#Доверительные интервалы\n",
    "conf_conv_A = get_conf_interval_z(ab_data.loc[ab_data.grp == 'A', 'price'].dropna(axis=0).count(), \n",
    "                                            ab_data.loc[ab_data.grp == 'A', 'user_id'].count())\n",
    "conf_conv_B = get_conf_interval_z(ab_data.loc[ab_data.grp == 'B', 'price'].dropna(axis=0).count(), \n",
    "                                            ab_data.loc[ab_data.grp == 'B', 'user_id'].count())\n",
    "\n",
    "conf_bill_A = get_conf_interval(ab_data.loc[ab_data.grp == 'A', 'price'].dropna(axis=0))\n",
    "conf_bill_B = get_conf_interval(ab_data.loc[ab_data.grp == 'B', 'price'].dropna(axis=0))\n",
    "\n",
    "conf_ARPU_A = get_conf_interval(ab_data.loc[ab_data.grp == 'A', 'price'].fillna(0))\n",
    "conf_ARPU_B = get_conf_interval(ab_data.loc[ab_data.grp == 'B', 'price'].fillna(0))\n",
    "\n",
    "print('Доверительные интервалы:')\n",
    "print('Конверсия группы A:', f'± {conf_conv_A:.3f}')\n",
    "print('Конверсия группы A:', f'± {conf_conv_B:.3f}')                             \n",
    "print('Средний чек группы A:', f'± {conf_bill_A:.2f}')\n",
    "print('Средний чек группы A:', f'± {conf_bill_B:.2f}')\n",
    "print('ARPU группы A:', f'± {conf_ARPU_A:.2f}')\n",
    "print('ARPU группы B:', f'± {conf_ARPU_B:.2f}')"
   ]
  },
  {
   "cell_type": "markdown",
   "metadata": {},
   "source": [
    "#### <u>4) Отчёт</u><a id=\"sum\"></a>"
   ]
  },
  {
   "cell_type": "code",
   "execution_count": 52,
   "metadata": {},
   "outputs": [
    {
     "data": {
      "text/plain": [
       "[Text(0, 0, '0'), Text(0, 0, '1,592,693')]"
      ]
     },
     "execution_count": 52,
     "metadata": {},
     "output_type": "execute_result"
    },
    {
     "data": {
      "image/png": "[encoded data removed]",
      "text/plain": [
       "<Figure size 1200x600 with 8 Axes>"
      ]
     },
     "metadata": {},
     "output_type": "display_data"
    }
   ],
   "source": [
    "fig, ax = plt.subplots(2, 4, figsize=(12, 6), tight_layout=True)\n",
    "\n",
    "bar_container = ax[0, 0].bar(['A', 'B'], [ab_summary.users_count.A, ab_summary.users_count.B], color=['tab:red', 'tab:green'])\n",
    "ax[0, 0].set(title='Число пользователей', yticks=([]), ylim=[0, 83000])\n",
    "ax[0, 0].bar_label(bar_container, fmt='{:,.0f}')\n",
    "ax[0, 0].text(1, 5000, s=f'{ab_summary['UC, %']['B']}', color='white', horizontalalignment='center')\n",
    "\n",
    "bar_container = ax[0, 1].bar(['A', 'B'], [ab_summary.buyers_count.A, ab_summary.buyers_count.B], color=['tab:red', 'tab:green'])\n",
    "ax[0, 1].set(title='Число покупателей', yticks=([]), ylim=[0, 10200])\n",
    "ax[0, 1].bar_label(bar_container, fmt='{:,.0f}')\n",
    "ax[0, 1].text(1, 600, s=f'{ab_summary['BC, %']['B']}', color='white', horizontalalignment='center')\n",
    "\n",
    "bar_container = ax[0, 2].bar(['A', 'B'], [ab_summary.conversion.A, ab_summary.conversion.B], color=['tab:red', 'tab:green'])\n",
    "ax[0, 2].set(title='Конверсия', yticks=([]), ylim=[0, 0.14])\n",
    "ax[0, 2].bar_label(bar_container, fmt='{:.2f}')\n",
    "ax[0, 2].text(1, 0.006, s=f'{ab_summary['C, %']['B']}', color='white', horizontalalignment='center')\n",
    "\n",
    "bar_container = ax[0, 3].bar(['A', 'B'], [ab_summary.avg_bill.A, ab_summary.avg_bill.B], color=['tab:red', 'tab:green'])\n",
    "ax[0, 3].set(title='Средний чек', yticks=([]), ylim=[0, 430])\n",
    "ax[0, 3].bar_label(bar_container, fmt='{:,.0f}')\n",
    "ax[0, 3].text(1, 18, s=f'{ab_summary['AB, %']['B']}', color='white', horizontalalignment='center')\n",
    "\n",
    "bar_container = ax[1, 0].bar(['A', 'B'], [ab_summary.revenue.A, ab_summary.revenue.B], color=['tab:red', 'tab:green'])\n",
    "ax[1, 0].set(title='Выручка', yticks=([]), ylim=[0, 3600000])\n",
    "ax[1, 0].bar_label(bar_container, fmt='{:,.0f}')\n",
    "ax[1, 0].text(1, 200000, s=f'{ab_summary['R, %']['B']}', color='white', horizontalalignment='center')\n",
    "\n",
    "bar_container = ax[1, 1].bar(['A', 'B'], [ab_summary.ARPU.A, ab_summary.ARPU.B], color=['tab:red', 'tab:green'])\n",
    "ax[1, 1].set(title='ARPU', yticks=([]), ylim=[0, 47])\n",
    "ax[1, 1].bar_label(bar_container, fmt='{:,.0f}')\n",
    "ax[1, 1].text(1, 3, s=f'{ab_summary['A, %']['B']}', color='white', horizontalalignment='center')\n",
    "\n",
    "bar_container = ax[1, 2].bar(['A', 'B'], [0, ab_summary.add_rev.B], color=['tab:red', 'tab:green'])\n",
    "ax[1, 2].set(title='Доп. выручка', yticks=([]), ylim=[0, 1750000])\n",
    "ax[1, 2].bar_label(bar_container, fmt='{:,.0f}')"
   ]
  },
  {
   "cell_type": "markdown",
   "metadata": {},
   "source": [
    "#### <u>5) Выводы</u><a id=\"fin\"></a>\n",
    "\n",
    "1. Скидка значимо увеличила ARPU на 94%\n",
    "2. Скидка уменьшила средний чек на 13,6%\n",
    "3. Скидка значимо увеличила конверсию на 120%\n",
    "4. Дополнительная выручка составила 1,59 млн.руб.\\\n",
    "\\\n",
    "<b>Таким образом, скидки способствуют увеличению выручки, поэтому их можно проводить время от времени.</b>"
   ]
  },
  {
   "cell_type": "markdown",
   "metadata": {},
   "source": []
  }
 ],
 "metadata": {
  "kernelspec": {
   "display_name": "Python 3",
   "language": "python",
   "name": "python3"
  },
  "language_info": {
   "codemirror_mode": {
    "name": "ipython",
    "version": 3
   },
   "file_extension": ".py",
   "mimetype": "text/x-python",
   "name": "python",
   "nbconvert_exporter": "python",
   "pygments_lexer": "ipython3",
   "version": "3.13.0"
  },
  "vscode": {
   "interpreter": {
    "hash": "62cc3abeb7f1d2984e810556ce97b5d2ff1f12a372078cf9f99d94a92f3dd9bc"
   }
  }
 },
 "nbformat": 4,
 "nbformat_minor": 2
}
